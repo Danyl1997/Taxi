{
 "cells": [
  {
   "cell_type": "markdown",
   "id": "187744c6",
   "metadata": {},
   "source": [
    "**Задание** \n",
    "\n",
    "Найти три машины, получившие наибольшее количество чаевых в апреле 2018 года, и выведите, как изменялась эта сумма в процентах в последующие месяцы по сравнению с предыдущим в таблице со столбцами taxi_id, year_month, tips_sum, tips_change. В качестве даты поездки возьмите дату начала поездки. В качестве источника данных используйте bigquery-public-data.chicago_taxi_trips. "
   ]
  },
  {
   "cell_type": "markdown",
   "id": "d685dbe4",
   "metadata": {},
   "source": [
    "**Просмотр и анализ базы данных** "
   ]
  },
  {
   "cell_type": "code",
   "execution_count": null,
   "id": "2c95f5d0",
   "metadata": {},
   "outputs": [],
   "source": [
    "SELECT *\n",
    "FROM bigquery-public-data.chicago_taxi_trips.taxi_trips;  "
   ]
  },
  {
   "cell_type": "markdown",
   "id": "f29ef38d",
   "metadata": {},
   "source": [
    "**Решение задания**"
   ]
  },
  {
   "cell_type": "code",
   "execution_count": null,
   "id": "173a4cec",
   "metadata": {},
   "outputs": [],
   "source": [
    "WITH top_tipping_taxis AS (\n",
    "SELECT\n",
    "    taxi_id,\n",
    "    SUM(tips) AS tips_sum\n",
    "  FROM\n",
    "    bigquery-public-data.chicago_taxi_trips.taxi_trips\n",
    "  WHERE\n",
    "    EXTRACT(MONTH FROM trip_start_timestamp) = 4\n",
    "    AND EXTRACT(YEAR FROM trip_start_timestamp) = 2018\n",
    "  GROUP BY\n",
    "    taxi_id\n",
    "  ORDER BY\n",
    "    tips_sum DESC\n",
    "  LIMIT\n",
    "    3),\n",
    "tips_by_month AS\n",
    "(SELECT\n",
    "    taxi_id,\n",
    "    FORMAT_TIMESTAMP('%Y-%m', trip_start_timestamp) AS year_month,\n",
    "    SUM(tips) AS tips_sum\n",
    "  FROM\n",
    "    bigquery-public-data.chicago_taxi_trips.taxi_trips\n",
    "  WHERE\n",
    "    taxi_id IN (SELECT taxi_id FROM top_tipping_taxis)\n",
    "    AND FORMAT_TIMESTAMP('%Y-%m', trip_start_timestamp) >= '2018-04'\n",
    "  GROUP BY\n",
    "    taxi_id, year_month\n",
    "  ORDER BY year_month)\n",
    "  SELECT taxi_id,\n",
    "  year_month,\n",
    "  tips_sum,\n",
    "  ROUND(((tips_sum - LAG(tips_sum, 1) OVER (PARTITION BY taxi_id ORDER BY year_month)) / LAG(tips_sum, 1) OVER (PARTITION BY taxi_id ORDER BY year_month)) * 100, 2) AS tips_change\n",
    "FROM\n",
    "  tips_by_month\n",
    "ORDER BY\n",
    "  taxi_id, year_month;"
   ]
  },
  {
   "cell_type": "markdown",
   "id": "e133523e",
   "metadata": {},
   "source": [
    "**Ссылка на выгрузку таблицы с результатом в google sheets  - ** \n",
    "https://docs.google.com/spreadsheets/d/1bQLgQyjbCLFUYI2a8GvyXA_Pf9fnSksWB7AuQ49KP8k/edit?usp=sharing "
   ]
  }
 ],
 "metadata": {
  "kernelspec": {
   "display_name": "Python 3 (ipykernel)",
   "language": "python",
   "name": "python3"
  },
  "language_info": {
   "codemirror_mode": {
    "name": "ipython",
    "version": 3
   },
   "file_extension": ".py",
   "mimetype": "text/x-python",
   "name": "python",
   "nbconvert_exporter": "python",
   "pygments_lexer": "ipython3",
   "version": "3.11.4"
  },
  "toc": {
   "base_numbering": 1,
   "nav_menu": {},
   "number_sections": true,
   "sideBar": true,
   "skip_h1_title": false,
   "title_cell": "Table of Contents",
   "title_sidebar": "Contents",
   "toc_cell": false,
   "toc_position": {},
   "toc_section_display": true,
   "toc_window_display": false
  }
 },
 "nbformat": 4,
 "nbformat_minor": 5
}
